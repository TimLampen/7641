{
 "cells": [
  {
   "cell_type": "code",
   "execution_count": 1,
   "metadata": {},
   "outputs": [],
   "source": [
    "import six\n",
    "import sys\n",
    "sys.modules['sklearn.externals.six'] = six\n",
    "import mlrose\n",
    "import pandas as pd\n",
    "import random\n",
    "from tqdm import tqdm\n",
    "from threading import Thread, Lock, Semaphore\n",
    "import time\n",
    "from sklearn.model_selection import ParameterGrid\n",
    "import numpy as np\n",
    "import glob\n",
    "import re\n",
    "\n",
    "pd.set_option('display.max_colwidth', 1000)\n",
    "\n",
    "NUM_SEEDS = 50\n",
    "RANDOM_SEED = 42\n",
    "NUM_TUNING_REPEATS = 10\n",
    "random.seed(RANDOM_SEED)"
   ]
  },
  {
   "cell_type": "code",
   "execution_count": 7,
   "metadata": {},
   "outputs": [
    {
     "name": "stderr",
     "output_type": "stream",
     "text": [
      "length=5, alg=genetic_alg: 100%|██████████| 480/480 [01:24<00:00,  5.68it/s]\n",
      "length=5, alg=random_hill_climbing: 100%|██████████| 30/30 [00:00<00:00, 4313.50it/s]\n",
      "length=5, alg=simulated_annealing: 100%|██████████| 2520/2520 [00:01<00:00, 1752.50it/s]\n",
      "length=10, alg=genetic_alg: 100%|██████████| 480/480 [02:02<00:00,  3.93it/s]\n",
      "length=10, alg=random_hill_climbing: 100%|██████████| 30/30 [00:00<00:00, 1752.52it/s]\n",
      "length=10, alg=simulated_annealing: 100%|██████████| 2520/2520 [00:01<00:00, 1392.61it/s]\n",
      "length=25, alg=genetic_alg: 100%|██████████| 480/480 [08:20<00:00,  1.04s/it]\n",
      "length=25, alg=random_hill_climbing: 100%|██████████| 30/30 [00:00<00:00, 206.98it/s]\n",
      "length=25, alg=simulated_annealing: 100%|██████████| 2520/2520 [00:12<00:00, 202.93it/s]\n",
      "length=50, alg=genetic_alg: 100%|██████████| 480/480 [29:23<00:00,  3.67s/it]\n",
      "length=50, alg=random_hill_climbing: 100%|██████████| 30/30 [00:00<00:00, 38.05it/s]\n",
      "length=50, alg=simulated_annealing: 100%|██████████| 2520/2520 [01:14<00:00, 33.87it/s]\n",
      "length=75, alg=genetic_alg: 100%|██████████| 480/480 [1:05:58<00:00,  8.25s/it]\n",
      "length=75, alg=random_hill_climbing: 100%|██████████| 30/30 [00:02<00:00, 12.03it/s]\n",
      "length=75, alg=simulated_annealing: 100%|██████████| 2520/2520 [03:46<00:00, 11.12it/s]\n",
      "length=100, alg=genetic_alg: 100%|██████████| 480/480 [2:37:30<00:00, 19.69s/it]   \n",
      "length=100, alg=random_hill_climbing: 100%|██████████| 30/30 [00:09<00:00,  3.09it/s]\n",
      "length=100, alg=simulated_annealing: 100%|██████████| 2520/2520 [27:37<00:00,  1.52it/s]   \n"
     ]
    }
   ],
   "source": [
    "output = []\n",
    "genetic_param_grid = {\n",
    "    'max_attempts': [10, 20, 50],\n",
    "    'pop_size': [100, 200, 300, 400],\n",
    "    'mutation_prob': [0.1, 0.2, 0.3, 0.4],\n",
    "}\n",
    "\n",
    "random_hill_param_grid = {\n",
    "    'max_attempts': [10, 20, 50],\n",
    "}\n",
    "simulated_annealing_param_grid = {\n",
    "    'max_attempts': [10, 20, 50],\n",
    "    'schedule': [mlrose.ExpDecay(init_temp,exp_cost,min_temp) for init_temp in np.arange(0.5,1.1,.2) for exp_cost in np.arange(0.001, 0.011, 0.001) for min_temp in np.arange(0.001, 0.011, 0.02)]\n",
    "    + [mlrose.GeomDecay(init_temp,decay,min_temp) for init_temp in np.arange(0.5,1.1,.2) for decay in [0.90, 0.92, 0.95, 0.97, 0.99, 0.999] for min_temp in np.arange(0.001, 0.011, 0.02)]\n",
    "    + [mlrose.ArithDecay(init_temp,decay,min_temp) for init_temp in np.arange(0.5,1.1,.2) for decay in np.arange(0.001, 0.011, 0.002) for min_temp in np.arange(0.001, 0.011, 0.02)]\n",
    "}\n",
    "\n",
    "def tune_ks_algorithm(ts_length, alg_name, alg_ptr, param_grid):\n",
    "    for params, _ in tqdm([(params, repeat) for params in ParameterGrid(param_grid) for repeat in range(0, NUM_TUNING_REPEATS)], desc=f\"length={ts_length}, alg={alg_name}\"):\n",
    "        fitness = mlrose.Queens()\n",
    "        problem_fit = mlrose.DiscreteOpt(length=ts_length, fitness_fn=fitness, maximize=True)\n",
    "        _, fitness = alg_ptr(problem_fit, **params)\n",
    "        if alg_name != \"simulated_annealing\":\n",
    "            output.append([alg_name, ts_length, params, fitness])\n",
    "            continue\n",
    "\n",
    "        if isinstance(params[\"schedule\"], mlrose.ExpDecay):\n",
    "            output.append([alg_name, ts_length, params | {\"init_temp\": params[\"schedule\"].init_temp, \"exp_cost\": params[\"schedule\"].exp_const, \"min_temp\": params[\"schedule\"].min_temp}, fitness])\n",
    "        elif isinstance(params[\"schedule\"], mlrose.GeomDecay):\n",
    "            output.append([alg_name, ts_length, params | {\"init_temp\": params[\"schedule\"].init_temp, \"decay\": params[\"schedule\"].decay, \"min_temp\": params[\"schedule\"].min_temp}, fitness])\n",
    "        elif isinstance(params[\"schedule\"], mlrose.ArithDecay):\n",
    "            output.append([alg_name, ts_length, params | {\"init_temp\": params[\"schedule\"].init_temp, \"decay\": params[\"schedule\"].decay, \"min_temp\": params[\"schedule\"].min_temp}, fitness])\n",
    "        \n",
    "\n",
    "for ts_length in [5,10,25,50,75,100]:\n",
    "    tune_ks_algorithm(ts_length, \"genetic_alg\", mlrose.genetic_alg, genetic_param_grid)\n",
    "    tune_ks_algorithm(ts_length, \"random_hill_climbing\", mlrose.random_hill_climb, random_hill_param_grid)\n",
    "    tune_ks_algorithm(ts_length, \"simulated_annealing\", mlrose.simulated_annealing, simulated_annealing_param_grid)\n",
    "\n",
    "output_df = pd.DataFrame(output,columns=[\"alg_name\", \"ts_length\", \"params\", \"fitness\"])\n",
    "output_df.to_csv(f\"queens_parameter_tuning_{time.time()}.csv\")"
   ]
  }
 ],
 "metadata": {
  "kernelspec": {
   "display_name": "Python 3",
   "language": "python",
   "name": "python3"
  },
  "language_info": {
   "codemirror_mode": {
    "name": "ipython",
    "version": 3
   },
   "file_extension": ".py",
   "mimetype": "text/x-python",
   "name": "python",
   "nbconvert_exporter": "python",
   "pygments_lexer": "ipython3",
   "version": "3.12.2"
  }
 },
 "nbformat": 4,
 "nbformat_minor": 2
}
