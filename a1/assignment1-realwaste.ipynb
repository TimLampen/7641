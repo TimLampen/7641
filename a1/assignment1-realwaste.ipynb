{
 "cells": [
  {
   "cell_type": "code",
   "execution_count": 11,
   "metadata": {},
   "outputs": [],
   "source": [
    "import numpy as np\n",
    "import matplotlib.pyplot as plt\n",
    "from sklearn.datasets import load_digits\n",
    "from sklearn.model_selection import train_test_split\n",
    "from sklearn.neighbors import KNeighborsClassifier\n",
    "from sklearn.metrics import accuracy_score, classification_report\n",
    "from sklearn.preprocessing import StandardScaler\n",
    "from sklearn.neural_network import MLPClassifier\n",
    "from sklearn.svm import SVC\n",
    "\n",
    "from tqdm import tqdm\n",
    "import os\n",
    "import cv2\n",
    "import threading\n",
    "import time"
   ]
  },
  {
   "cell_type": "code",
   "execution_count": 3,
   "metadata": {},
   "outputs": [],
   "source": [
    "RANDOM_SEED = 42\n",
    "IMAGE_SIZE = (512,512)\n",
    "LOCK = threading.Lock()"
   ]
  },
  {
   "cell_type": "code",
   "execution_count": 4,
   "metadata": {},
   "outputs": [
    {
     "name": "stderr",
     "output_type": "stream",
     "text": [
      "100%|██████████| 9/9 [00:10<00:00,  1.15s/it]\n"
     ]
    }
   ],
   "source": [
    "def load_images_from_nested_folder(folder, image_size=(512,512)):\n",
    "    images = []\n",
    "    labels = []\n",
    "    class_names = []\n",
    "    class_idx = 0\n",
    "\n",
    "    for class_folder in tqdm(os.listdir(folder)):\n",
    "        class_path = os.path.join(folder, class_folder)\n",
    "        if not os.path.isdir(class_path):\n",
    "            continue\n",
    "\n",
    "        class_names.append(class_folder)\n",
    "        for filename in os.listdir(class_path):\n",
    "            img_path = os.path.join(class_path, filename)\n",
    "            img = cv2.imread(img_path)\n",
    "            if img is not None:\n",
    "                img = cv2.resize(img, image_size)\n",
    "                img = cv2.cvtColor(img, cv2.COLOR_BGR2GRAY)\n",
    "                images.append(img.flatten())\n",
    "                labels.append(class_idx)\n",
    "        \n",
    "        class_idx += 1\n",
    "    print(f\"Loaded {len(images)} images.\")\n",
    "    return np.array(images), np.array(labels), class_names\n",
    "\n",
    "X, y, class_names = load_images_from_nested_folder(\"realwaste-main/RealWaste\", image_size=IMAGE_SIZE)\n",
    "X_train, X_test, y_train, y_test = train_test_split(X, y, test_size=0.8, random_state=RANDOM_SEED)\n"
   ]
  },
  {
   "cell_type": "code",
   "execution_count": null,
   "metadata": {},
   "outputs": [],
   "source": [
    "def run_knn(k, X_train, X_test, y_train, y_test):\n",
    "    knn = KNeighborsClassifier(n_neighbors=k)\n",
    "    knn.fit(X_train, y_train)\n",
    "    y_pred = knn.predict(X_test)\n",
    "    accuracy = accuracy_score(y_test, y_pred)\n",
    "    return accuracy\n",
    "\n",
    "for k in [1,2,3,5,10,25,50, 100]:\n",
    "    start = time.time()\n",
    "    accuracy = run_knn(k)\n",
    "    end = time.time()\n",
    "\n",
    "    print(f\"Accuracy for k={k} KNN is {accuracy*100:.2f}% runtime: {(end-start):.0f}s\")"
   ]
  },
  {
   "cell_type": "code",
   "execution_count": 10,
   "metadata": {},
   "outputs": [
    {
     "data": {
      "text/plain": [
       "0.19516044187269857"
      ]
     },
     "execution_count": 10,
     "metadata": {},
     "output_type": "execute_result"
    }
   ],
   "source": [
    "def run_nn(X_train, X_test, y_train, y_test):\n",
    "    mlp = MLPClassifier(hidden_layer_sizes=(128,128), max_iter=1000, random_state=RANDOM_SEED)\n",
    "    mlp.fit(X_train, y_train)\n",
    "    y_pred = mlp.predict(X_test)\n",
    "    accuracy = accuracy_score(y_test, y_pred)\n",
    "    return accuracy\n",
    "\n",
    "\n",
    "run_nn(X_train, X_test, y_train, y_test)"
   ]
  },
  {
   "cell_type": "code",
   "execution_count": 14,
   "metadata": {},
   "outputs": [
    {
     "name": "stdout",
     "output_type": "stream",
     "text": [
      "Accuracy for kernel=linear SVM is 34.74% runtime: 688s\n"
     ]
    }
   ],
   "source": [
    "def run_svm(kernel):\n",
    "    svm = SVC(kernel=kernel)\n",
    "    svm.fit(X_train, y_train)\n",
    "    y_pred = svm.predict(X_test)\n",
    "    accuracy = accuracy_score(y_test, y_pred)\n",
    "    return accuracy\n",
    "\n",
    "\n",
    "for kernel in ['linear', 'poly', 'rbf', 'sigmoid']:\n",
    "    start = time.time()\n",
    "    accuracy = run_svm(kernel)\n",
    "    end = time.time()\n",
    "\n",
    "    print(f\"Accuracy for kernel={kernel} SVM is {accuracy*100:.2f}% runtime: {(end-start):.0f}s\")"
   ]
  }
 ],
 "metadata": {
  "kernelspec": {
   "display_name": "Python 3",
   "language": "python",
   "name": "python3"
  },
  "language_info": {
   "codemirror_mode": {
    "name": "ipython",
    "version": 3
   },
   "file_extension": ".py",
   "mimetype": "text/x-python",
   "name": "python",
   "nbconvert_exporter": "python",
   "pygments_lexer": "ipython3",
   "version": "3.12.2"
  }
 },
 "nbformat": 4,
 "nbformat_minor": 2
}
